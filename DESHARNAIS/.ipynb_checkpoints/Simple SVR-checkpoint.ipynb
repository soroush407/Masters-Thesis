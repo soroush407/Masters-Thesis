{
 "cells": [
  {
   "cell_type": "code",
   "execution_count": 1,
   "id": "0ecd9461",
   "metadata": {},
   "outputs": [],
   "source": [
    "import numpy as np\n",
    "import pandas as pd\n",
    "from sklearn.svm import SVR\n",
    "import random\n",
    "import tensorflow as tf\n",
    "from sklearn.model_selection import train_test_split\n",
    "from sklearn.preprocessing import StandardScaler\n",
    "from sklearn.metrics import mean_squared_error\n",
    "from sklearn.metrics import mean_absolute_error"
   ]
  },
  {
   "cell_type": "code",
   "execution_count": 2,
   "id": "25508d30",
   "metadata": {},
   "outputs": [
    {
     "name": "stdout",
     "output_type": "stream",
     "text": [
      "Mean Squared Error: 283.6443022733091\n",
      "Root Mean Squared Error (RMSE): 573.6585034609518\n",
      "Mean Magnitude of Relative Error (MMRE): 3.17\n"
     ]
    }
   ],
   "source": [
    "# Step 1: Load your dataset. Make sure you have a CSV file with relevant features and effort (target) column.\n",
    "# Replace 'your_dataset.csv' with your actual dataset file name and adjust the column names accordingly.\n",
    "desharnais=pd.read_csv(\"C:\\\\Users\\\\Asus\\\\Desktop\\\\Tehran university\\\\Seminar\\\\Datasets\\\\desharnais_dataset.csv\",header=None,index_col=0)\n",
    "columns_desharnais=['TeamExp','ManagerExp','YearEnd','Length','Effort','Transactions','Entities','PointsAdjust','Envergure','PointsNonAjust','Language']\n",
    "desharnais.set_axis(columns_desharnais,axis='columns',inplace=True)\n",
    "desharnais.rename_axis(\"Features\", axis=1,inplace=True)\n",
    "desharnais.rename_axis(\"Projects\", axis=0,inplace=True)\n",
    "dataset = desharnais\n",
    "\n",
    "# Step 2: Prepare the data.\n",
    "X = dataset.drop(columns=['Effort'])  # Features\n",
    "y = dataset['Effort']  # Target (effort)\n",
    "\n",
    "seed_value = 42\n",
    "random.seed(seed_value)\n",
    "np.random.seed(seed_value)\n",
    "tf.random.set_seed(seed_value)\n",
    "\n",
    "# Split the data into training and testing sets.\n",
    "X_train, X_test, y_train, y_test = train_test_split(X, y, test_size=0.2, random_state=42)\n",
    "\n",
    "# Standardize the features to have zero mean and unit variance.\n",
    "scaler = StandardScaler()\n",
    "X_train_scaled = scaler.fit_transform(X_train)\n",
    "X_test_scaled = scaler.transform(X_test)\n",
    "\n",
    "# Create an SVR model\n",
    "svr_model = SVR(kernel='linear')  # You can experiment with different kernels\n",
    "\n",
    "# Train the SVR model\n",
    "svr_model.fit(X_train_scaled, y_train)\n",
    "\n",
    "# Make predictions on the test set\n",
    "y_pred = svr_model.predict(X_test_scaled)\n",
    "\n",
    "\n",
    "# Calculate the mean squared error\n",
    "mae = mean_absolute_error(y_test, y_pred)\n",
    "print(f\"Mean Squared Error: {mae}\")\n",
    "\n",
    "# Calculate the Root Mean Squared Error (RMSE) to assess the model's performance.\n",
    "rmse = np.sqrt(mean_squared_error(y_test, y_pred))\n",
    "print(f\"Root Mean Squared Error (RMSE): {rmse}\")\n",
    "\n",
    "# Calculate Mean Magnitude of Relative Error (MMRE)\n",
    "mmre = np.mean(np.abs((y_test - y_pred) / y_test))\n",
    "print(f\"Mean Magnitude of Relative Error (MMRE): {mmre:.2f}\")\n",
    "\n"
   ]
  },
  {
   "cell_type": "code",
   "execution_count": null,
   "id": "35bd3c1c",
   "metadata": {},
   "outputs": [],
   "source": []
  }
 ],
 "metadata": {
  "kernelspec": {
   "display_name": "Python 3 (ipykernel)",
   "language": "python",
   "name": "python3"
  },
  "language_info": {
   "codemirror_mode": {
    "name": "ipython",
    "version": 3
   },
   "file_extension": ".py",
   "mimetype": "text/x-python",
   "name": "python",
   "nbconvert_exporter": "python",
   "pygments_lexer": "ipython3",
   "version": "3.9.13"
  }
 },
 "nbformat": 4,
 "nbformat_minor": 5
}

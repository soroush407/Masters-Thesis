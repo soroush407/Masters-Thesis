{
 "cells": [
  {
   "cell_type": "code",
   "execution_count": 1,
   "id": "ec86bd6e",
   "metadata": {},
   "outputs": [],
   "source": [
    "import numpy as np\n",
    "import pandas as pd\n",
    "from sklearn.metrics import mean_absolute_error\n",
    "import random\n",
    "import tensorflow as tf\n",
    "from sklearn.model_selection import train_test_split\n",
    "from sklearn.preprocessing import StandardScaler\n",
    "from sklearn.metrics import mean_squared_error"
   ]
  },
  {
   "cell_type": "code",
   "execution_count": 8,
   "id": "f37a9831",
   "metadata": {},
   "outputs": [
    {
     "name": "stdout",
     "output_type": "stream",
     "text": [
      "Epoch 1/5\n",
      "7/7 [==============================] - 0s 2ms/step - loss: 4596192.5000\n",
      "Epoch 2/5\n",
      "7/7 [==============================] - 0s 867us/step - loss: 4595832.5000\n",
      "Epoch 3/5\n",
      "7/7 [==============================] - 0s 751us/step - loss: 4595519.5000\n",
      "Epoch 4/5\n",
      "7/7 [==============================] - 0s 833us/step - loss: 4595247.5000\n",
      "Epoch 5/5\n",
      "7/7 [==============================] - 0s 858us/step - loss: 4594931.0000\n",
      "1/1 [==============================] - 0s 32ms/step\n",
      "Mean Squared Error: 322.30149467948536\n",
      "Root Mean Squared Error (RMSE): 642.5704981775749\n",
      "Mean Magnitude of Relative Error (MMRE): 0.99\n"
     ]
    }
   ],
   "source": [
    "\n",
    "\n",
    "# Step 1: Load your dataset. Make sure you have a CSV file with relevant features and effort (target) column.\n",
    "# Replace 'your_dataset.csv' with your actual dataset file name and adjust the column names accordingly.\n",
    "cocomo=pd.read_csv(\"C:\\\\Users\\\\Asus\\\\Desktop\\\\Tehran university\\\\Seminar\\\\Datasets\\\\cocomo81_dataset.csv\",header=None)\n",
    "columns_cocomo=['rely','data','cplx','time','stor','virt','turn','acap','aexp','pcap','vexp','lexp','modp','tool','sced','loc','effort']\n",
    "cocomo.set_axis(columns_cocomo,axis='columns',inplace=True)\n",
    "cocomo.set_axis(range(1,64),axis=0 ,inplace=True)\n",
    "cocomo.rename_axis(\"Features\", axis=1,inplace=True)\n",
    "cocomo.rename_axis(\"Projects\", axis=0,inplace=True)\n",
    "dataset = cocomo\n",
    "\n",
    "seed_value = 42\n",
    "random.seed(seed_value)\n",
    "np.random.seed(seed_value)\n",
    "tf.random.set_seed(seed_value)\n",
    "\n",
    "# Step 2: Prepare the data.\n",
    "X = dataset.drop(columns=['effort'])  # Features\n",
    "y = dataset['effort']  # Target (effort)\n",
    "\n",
    "# Split the data into training and testing sets.\n",
    "X_train, X_test, y_train, y_test = train_test_split(X, y, test_size=0.2, random_state=42)\n",
    "\n",
    "# Standardize the features to have zero mean and unit variance.\n",
    "scaler = StandardScaler()\n",
    "X_train_scaled = scaler.fit_transform(X_train)\n",
    "X_test_scaled = scaler.transform(X_test)\n",
    "\n",
    "# Step 3: Build the ANN model.\n",
    "model = tf.keras.models.Sequential([\n",
    "    tf.keras.layers.Dense(units=32, activation='relu', input_shape=(X_train_scaled.shape[1],)),\n",
    "    tf.keras.layers.Dense(units=16, activation='relu'),\n",
    "    tf.keras.layers.Dense(units=1)  # Output layer with a single unit for regression.\n",
    "])\n",
    "\n",
    "# Step 4: Compile the model.\n",
    "model.compile(optimizer='adam', loss='mean_squared_error')\n",
    "\n",
    "# Step 5: Train the model.\n",
    "model.fit(X_train_scaled, y_train, epochs=5, batch_size=8, verbose=1)\n",
    "\n",
    "# Step 6: Evaluate the model.\n",
    "y_pred = model.predict(X_test_scaled)\n",
    "\n",
    "# Convert y_pred and y_test to NumPy arrays\n",
    "y_pred = np.array(y_pred).flatten()\n",
    "y_test = np.array(y_test)\n",
    "\n",
    "# Calculate the mean squared error\n",
    "mae = mean_absolute_error(y_test, y_pred)\n",
    "print(f\"Mean Squared Error: {mae}\")\n",
    "\n",
    "# Calculate the Root Mean Squared Error (RMSE) to assess the model's performance.\n",
    "rmse = np.sqrt(mean_squared_error(y_test, y_pred))\n",
    "print(f\"Root Mean Squared Error (RMSE): {rmse}\")\n",
    "\n",
    "# Calculate Mean Magnitude of Relative Error (MMRE)\n",
    "mmre = np.mean(np.abs((y_test - y_pred) / y_test))\n",
    "print(f\"Mean Magnitude of Relative Error (MMRE): {mmre:.2f}\")\n"
   ]
  },
  {
   "cell_type": "code",
   "execution_count": null,
   "id": "a368f794",
   "metadata": {},
   "outputs": [],
   "source": []
  }
 ],
 "metadata": {
  "kernelspec": {
   "display_name": "Python 3 (ipykernel)",
   "language": "python",
   "name": "python3"
  },
  "language_info": {
   "codemirror_mode": {
    "name": "ipython",
    "version": 3
   },
   "file_extension": ".py",
   "mimetype": "text/x-python",
   "name": "python",
   "nbconvert_exporter": "python",
   "pygments_lexer": "ipython3",
   "version": "3.9.13"
  }
 },
 "nbformat": 4,
 "nbformat_minor": 5
}

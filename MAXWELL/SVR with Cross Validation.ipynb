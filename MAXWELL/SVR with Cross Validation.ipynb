{
 "cells": [
  {
   "cell_type": "code",
   "execution_count": 1,
   "id": "7e45699f",
   "metadata": {},
   "outputs": [],
   "source": [
    "import numpy as np\n",
    "import pandas as pd\n",
    "import random\n",
    "from sklearn.svm import SVR\n",
    "import tensorflow as tf\n",
    "from sklearn.model_selection import KFold\n",
    "from sklearn.model_selection import train_test_split\n",
    "from sklearn.preprocessing import StandardScaler\n",
    "from sklearn.metrics import mean_squared_error\n",
    "from sklearn.metrics import mean_absolute_error\n",
    "from bayes_opt import BayesianOptimization"
   ]
  },
  {
   "cell_type": "code",
   "execution_count": 2,
   "id": "212c5011",
   "metadata": {},
   "outputs": [
    {
     "name": "stdout",
     "output_type": "stream",
     "text": [
      "Mean Absolute Error mean: 5594.558893759715\n",
      "Mean Magnitude of Relative Error mean (MMRE): 1.22\n",
      "Root Mean Squared Error (RMSE) mean: 9350.045978164835\n"
     ]
    }
   ],
   "source": [
    "\n",
    "# Step 1: Load your dataset. Make sure you have a CSV file with relevant features and effort (target) column.\n",
    "# Replace 'your_dataset.csv' with your actual dataset file name and adjust the column names accordingly.\n",
    "maxwell=pd.read_csv(\"C:\\\\Users\\\\Asus\\\\Desktop\\\\Tehran university\\\\Seminar\\\\Datasets\\\\maxwell_dataset.csv\",header=None)\n",
    "columns_maxwell=['Syear','App','Har','Dba','Ifc','Source','Telonuse','Nlan','T01','T02','T03','T04','T05','T06','T07','T08','T09','T10','T11','T12','T13','T14','T15','Duration','Size','Time','Effort']\n",
    "maxwell.set_axis(columns_maxwell,axis='columns',inplace=True)\n",
    "maxwell.set_axis(range(1,63),axis=0 ,inplace=True)\n",
    "maxwell.rename_axis(\"Features\", axis=1,inplace=True)\n",
    "maxwell.rename_axis(\"Projects\", axis=0,inplace=True)\n",
    "dataset = maxwell\n",
    "\n",
    "# Step 2: Prepare the data.\n",
    "X = dataset.drop(columns=['Effort'])  # Features\n",
    "y = dataset['Effort']  # Target (effort)\n",
    "\n",
    "seed_value = 42\n",
    "random.seed(seed_value)\n",
    "np.random.seed(seed_value)\n",
    "tf.random.set_seed(seed_value)\n",
    "\n",
    "# Initialize K-Fold cross-validation\n",
    "kf = KFold(n_splits=5, shuffle=True, random_state=42)\n",
    "\n",
    "\n",
    "# Initialize lists to store RMSE and MMRE for each fold\n",
    "mean_MAE=[]\n",
    "mean_MMRE=[]\n",
    "mean_RMSE=[]\n",
    "\n",
    "for train_index, test_index in kf.split(X):\n",
    "    X_train, X_test = X.iloc[train_index], X.iloc[test_index]\n",
    "    y_train, y_test = y.iloc[train_index], y.iloc[test_index]\n",
    "\n",
    "    # Standardize the features to have zero mean and unit variance.\n",
    "    scaler = StandardScaler()\n",
    "    X_train_scaled = scaler.fit_transform(X_train)\n",
    "    X_test_scaled = scaler.transform(X_test)\n",
    "\n",
    "    model = SVR(kernel='linear')  # You can experiment with different kernels\n",
    "\n",
    "    # Train the SVR model\n",
    "    model.fit(X_train_scaled, y_train)\n",
    "    y_pred = model.predict(X_test_scaled)\n",
    "    \n",
    "\n",
    "    mae = mean_absolute_error(y_test, y_pred)\n",
    "    mean_MAE.append(mae)\n",
    "\n",
    "    # Calculate the Root Mean Squared Error (RMSE) for this fold.\n",
    "    rmse = np.sqrt(mean_squared_error(y_test, y_pred))\n",
    "    mean_RMSE.append(rmse)\n",
    "\n",
    "     # Convert y_pred and y_test to NumPy arrays for MMRE calculation\n",
    "    y_pred = np.array(y_pred).flatten()\n",
    "    y_test = np.array(y_test)\n",
    "    \n",
    "    # Calculate the Mean Magnitude of Relative Error (MMRE) for this fold.\n",
    "    mmre = np.mean(np.abs((y_test - y_pred) / y_test))\n",
    "    mean_MMRE.append(mmre)\n",
    "\n",
    "print(f\"Mean Absolute Error mean: {np.mean(mean_MAE)}\")   \n",
    "print(f\"Mean Magnitude of Relative Error mean (MMRE): {np.mean(mean_MMRE):.2f}\")\n",
    "print(f\"Root Mean Squared Error (RMSE) mean: {np.mean(mean_RMSE)}\")"
   ]
  },
  {
   "cell_type": "code",
   "execution_count": null,
   "id": "2d8bbc60",
   "metadata": {},
   "outputs": [],
   "source": []
  }
 ],
 "metadata": {
  "kernelspec": {
   "display_name": "Python 3 (ipykernel)",
   "language": "python",
   "name": "python3"
  },
  "language_info": {
   "codemirror_mode": {
    "name": "ipython",
    "version": 3
   },
   "file_extension": ".py",
   "mimetype": "text/x-python",
   "name": "python",
   "nbconvert_exporter": "python",
   "pygments_lexer": "ipython3",
   "version": "3.9.13"
  }
 },
 "nbformat": 4,
 "nbformat_minor": 5
}
